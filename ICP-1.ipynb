{
 "cells": [
  {
   "cell_type": "code",
   "execution_count": 2,
   "id": "08f1a3de",
   "metadata": {},
   "outputs": [
    {
     "name": "stdout",
     "output_type": "stream",
     "text": [
      "['n', 'o', 'h', 'p']\n"
     ]
    }
   ],
   "source": [
    "S=['p','y','t','h','o','n']\n",
    "del(S[1:3])\n",
    "S=S[::-1]\n",
    "print(S)"
   ]
  },
  {
   "cell_type": "code",
   "execution_count": 3,
   "id": "e320fbe1",
   "metadata": {},
   "outputs": [
    {
     "name": "stdout",
     "output_type": "stream",
     "text": [
      "123.8\n",
      "35.8\n",
      "5.517042692394381e+136\n",
      "3150.3999999999996\n"
     ]
    }
   ],
   "source": [
    "a=35.8\n",
    "b=88\n",
    "print(a+b)\n",
    "print(a%b)\n",
    "print(a**b)\n",
    "print(a*b)"
   ]
  },
  {
   "cell_type": "code",
   "execution_count": 4,
   "id": "f68b33a7",
   "metadata": {},
   "outputs": [
    {
     "name": "stdout",
     "output_type": "stream",
     "text": [
      "I love playing with python\n"
     ]
    },
    {
     "data": {
      "text/plain": [
       "'I love playing with pythons'"
      ]
     },
     "execution_count": 4,
     "metadata": {},
     "output_type": "execute_result"
    }
   ],
   "source": [
    "S= 'I love playing with python'\n",
    "print(S)\n",
    "S.replace(\"python\",\"pythons\" )"
   ]
  },
  {
   "cell_type": "code",
   "execution_count": 15,
   "id": "701c63be",
   "metadata": {},
   "outputs": [
    {
     "name": "stdout",
     "output_type": "stream",
     "text": [
      "F\n"
     ]
    }
   ],
   "source": [
    "score = 59\n",
    "if score>=90 and score<=100:\n",
    "    print('A')\n",
    "elif score>=80 and score<=89:\n",
    "    print ('B')\n",
    "elif score>=70 and score<=79:\n",
    "    print('c')\n",
    "elif score>=60 and score<=69:\n",
    "    print('D')\n",
    "else:\n",
    "    print('F')"
   ]
  },
  {
   "cell_type": "code",
   "execution_count": null,
   "id": "797fdbef",
   "metadata": {},
   "outputs": [],
   "source": []
  },
  {
   "cell_type": "code",
   "execution_count": null,
   "id": "da6bdd00",
   "metadata": {},
   "outputs": [],
   "source": []
  }
 ],
 "metadata": {
  "kernelspec": {
   "display_name": "Python 3 (ipykernel)",
   "language": "python",
   "name": "python3"
  },
  "language_info": {
   "codemirror_mode": {
    "name": "ipython",
    "version": 3
   },
   "file_extension": ".py",
   "mimetype": "text/x-python",
   "name": "python",
   "nbconvert_exporter": "python",
   "pygments_lexer": "ipython3",
   "version": "3.10.9"
  }
 },
 "nbformat": 4,
 "nbformat_minor": 5
}
